{
 "cells": [
  {
   "cell_type": "markdown",
   "metadata": {
    "colab_type": "text",
    "id": "bOT3u0GZKWc8"
   },
   "source": [
    "# Réseau de neurones: les bases en numpy\n"
   ]
  },
  {
   "cell_type": "markdown",
   "metadata": {
    "colab_type": "text",
    "id": "Irgrskx6KWc-"
   },
   "source": [
    "Le but de ce TP est de voir les bases des réseaux de neurones en numpy. Puis de voir comment en pratique on s'en sert avec la librairie Pytorch.\n",
    "\n",
    "Ce TP sera **à rendre** (voir Discord).\n",
    "Il y a n points dans ce TP, qui seront divisé pour obtenir une note sur 4.\n",
    "\n",
    "Ce TP est à faire avec votre **groupe**. Rendez-le avec votre **groupe**.\n",
    "\n",
    "Si vous avez des **questions**, n'hésitez pas à me les poser sur **Discord**"
   ]
  },
  {
   "cell_type": "markdown",
   "metadata": {
    "colab_type": "text",
    "id": "nlmi-culKWdA"
   },
   "source": [
    "## Lecture des données, tokenization et BoW\n",
    "\n",
    "Dans cette section vous devez lire les données (seulement les consensus).\n",
    "\n",
    "Vous devez construire votre tokenizer (et de préférence le sauvegarder).\n",
    "\n",
    "Vous devez transformer votre jeu de données (liste de tweets et labels) en liste de vecteurs BoW + liste d'indice des labels."
   ]
  },
  {
   "cell_type": "code",
   "execution_count": 1,
   "metadata": {
    "colab": {},
    "colab_type": "code",
    "id": "B9Ekg9fkKWdD"
   },
   "outputs": [],
   "source": [
    "# Les imports sont préparé ici\n",
    "# n'enlevez pas les % car il permettent le reload de modules ou l'affichage dans le notebook\n",
    "%matplotlib inline\n",
    "%load_ext autoreload\n",
    "%autoreload 2\n",
    "import os\n",
    "import numpy as np\n",
    "import random\n",
    "import pickle as pkl\n",
    "import re\n",
    "import matplotlib.pyplot as plt\n",
    "from sklearn.metrics import f1_score"
   ]
  },
  {
   "cell_type": "markdown",
   "metadata": {},
   "source": [
    "**Tache 1** 1pt.\n",
    "\n",
    "Importez/réécrivez le code permettant de lire vos données et les transformer en BoW.\n",
    "\n",
    "A la fin de cette cellule, vous devrez avoir trois variables d'instanciées :\n",
    "- X : la liste des vecteurs BoW de vos tweets\n",
    "- Y : la liste des indices des labels de vos tweets (Y[i] doit contenir le label de X[i])\n",
    "- Y_one_hot : la liste des labels sous forme one_hot (c'est similaire à un BoW, vous prenez un vecteur de zeros et mettez un 1 à l'indice du label)"
   ]
  },
  {
   "cell_type": "code",
   "execution_count": 2,
   "metadata": {},
   "outputs": [
    {
     "name": "stdout",
     "output_type": "stream",
     "text": [
      "[0 0 0 ... 0 0 0]\n",
      "11762\n",
      "[0. 0. 0. ... 0. 0. 0.]\n",
      "11762\n",
      "[1. 0. 0. 0.]\n"
     ]
    }
   ],
   "source": [
    "# mettez votre code ici\n",
    "from tokenization import *\n",
    "from utils import *\n",
    "from BagOfWord import *\n",
    "\n",
    "corpus = read_corpus(\"/home/boulanger/Teaching/2021-2022/EIT5/train_label_final.txt\", consensus=True)\n",
    "tokenizer = WordTokenizer()\n",
    "\n",
    "\n",
    "labels = {'pos': 0, 'neg': 1, 'neu': 2, 'irr': 3}\n",
    "Y = [] # Pour les labels il faut des vecteurs en one_hot, par exemple pour irr : [0,0,0,1]\n",
    "Y_nonehot = []\n",
    "for i in range(len(corpus)):\n",
    "    lab = re.match(r\"[(].*,(.*),.*[)]\", corpus[i][1])\n",
    "    ap = np.zeros(len(labels.keys()))\n",
    "    ap[labels[lab[1].lower()]] = 1\n",
    "    Y_nonehot.append(labels[lab[1].lower()])\n",
    "    Y.append(ap)\n",
    "\n",
    "\n",
    "tweets = [c[0] for c in corpus]\n",
    "for t in tweets:\n",
    "    tokenizer.add_to_voc(t)\n",
    "\n",
    "    \n",
    "tweets_ids = [tokenizer.words_to_ids(t) for t in tweets]\n",
    "\n",
    "\n",
    "X = [list_to_bow(tw, tokenizer.word2id) for tw in tweets_ids]\n",
    "X_freq = [list_to_bow_freq(tw, tokenizer.word2id) for tw in tweets_ids]\n",
    "\n",
    "\n",
    "print(X[0]) # x sont les tweets transformés en vecteurs BoW\n",
    "print(len(X[0]))\n",
    "print(X_freq[0])\n",
    "print(len(X_freq[0]))\n",
    "print(Y[0]) # y sont les labels transformés en indice"
   ]
  },
  {
   "cell_type": "markdown",
   "metadata": {
    "colab_type": "text",
    "id": "MvZIFXNNKWdV"
   },
   "source": [
    "## Création du modèle\n",
    "\n",
    "Nous allons d'abord créer une couche linéaire.\n",
    "Celle ci comprendra le terme de biais.\n",
    "\n",
    "Rappel de la formule de la couche linéaire: \n",
    "$$\n",
    "\\mathbf{a} = \\mathbf{W}\\mathbf{x}+ \\mathbf{b}\n",
    "$$\n",
    "\n",
    "Notons *n_in* et *n_out* respectivement les dimensions de $\\mathbf{x}$ et $\\mathbf{y}$. \n",
    "\n",
    "**Tache 2** 1pt.\n",
    "- Coder la fonction d'initialisation suivante, l'initialisation est aléatoire Gaussien centrée en 0 avec un écart type 1 / sqrt(n_in). La fonction retourne W et b. \n"
   ]
  },
  {
   "cell_type": "code",
   "execution_count": 3,
   "metadata": {
    "colab": {},
    "colab_type": "code",
    "id": "zaHamy9hKWdX"
   },
   "outputs": [],
   "source": [
    "def init(n_in,n_out):\n",
    "    W = np.random.normal(size = (n_in, n_out))/np.sqrt(n_in) # TODO\n",
    "    b = np.random.normal(size = (1, n_out))/np.sqrt(n_in) # TODO\n",
    "    return W,b"
   ]
  },
  {
   "cell_type": "markdown",
   "metadata": {
    "colab_type": "text",
    "id": "79A7J5vYKWdZ"
   },
   "source": [
    "- Testez que votre fonction marche avec les dimensions 5 et 3.\n"
   ]
  },
  {
   "cell_type": "code",
   "execution_count": 4,
   "metadata": {
    "colab": {},
    "colab_type": "code",
    "id": "Z4MGDedaKWda"
   },
   "outputs": [
    {
     "name": "stdout",
     "output_type": "stream",
     "text": [
      "[[ 0.3025384   0.87938685 -0.27031276]\n",
      " [-1.03971274  0.01884593 -0.29904062]\n",
      " [ 0.44180641  0.20234681 -0.97588838]\n",
      " [ 0.77545345 -0.23175039  0.33929792]\n",
      " [-0.2258935  -0.04028016 -0.76886102]] [[ 0.18478747  0.61461136 -0.67209551]]\n"
     ]
    }
   ],
   "source": [
    "W, b = init(5, 3)\n",
    "print(W, b)"
   ]
  },
  {
   "cell_type": "markdown",
   "metadata": {
    "colab_type": "text",
    "id": "euHVEX4iKWdf"
   },
   "source": [
    "**Tache 3** 1pt\n",
    "\n",
    "Implémenter la fonction forward tel que $$a_j = \\sum_{i \\rightarrow j} W_{ij} x_i + b_j$$ \n",
    "\n",
    "\n",
    "où $x_i$ est la valeur du BoW du tweet à l'indice i\n",
    "\n",
    "$W_{ij}$ est la valeur reliant l'indice $i$ vers la catégorie $j$ (c'est la matrice des poids)\n",
    "\n",
    "et $b_j$ est le biais associé à la catégorie $j$\n",
    "\n",
    "Cette fonction dois prendre en entrée un tableau de n vecteur BoW.\n",
    "Vous aurez besoin du produit scalaire de numpy, aussi connu sous le nom dot, et de la transposition."
   ]
  },
  {
   "cell_type": "code",
   "execution_count": 5,
   "metadata": {
    "colab": {},
    "colab_type": "code",
    "id": "emgTpnkOKWdf"
   },
   "outputs": [],
   "source": [
    "def forward(W,b,X):\n",
    "    \"\"\"\n",
    "        Fait la propagation de l'entrée à travers la couche\n",
    "        :param W: les poids\n",
    "        :param b: le biais\n",
    "        :param X: les input (minibatch_size x n_input)\n",
    "        :type W: ndarray\n",
    "        :type B: ndarray\n",
    "        :type X: ndarray\n",
    "        :return: les valeurs transformés par la couche\n",
    "        :rtype: ndarray\n",
    "    \"\"\"\n",
    "    return np.dot(X, W) + b #TODO"
   ]
  },
  {
   "cell_type": "markdown",
   "metadata": {},
   "source": [
    "- Testez votre fonction. Pour cela, faites un batch de taille (2, 5) avec la fonction eye de numpy. La sortie de votre fonction doit être de dimension (2, 3)."
   ]
  },
  {
   "cell_type": "code",
   "execution_count": 6,
   "metadata": {},
   "outputs": [
    {
     "name": "stdout",
     "output_type": "stream",
     "text": [
      "[[1. 0. 0. 0. 0.]\n",
      " [0. 1. 0. 0. 0.]]\n",
      "[[ 0.48732587  1.49399821 -0.94240827]\n",
      " [-0.85492526  0.63345728 -0.97113613]]\n"
     ]
    }
   ],
   "source": [
    "Xt = np.eye(2,5)\n",
    "print(Xt)\n",
    "Yt = forward(W, b, Xt)\n",
    "print(Yt)"
   ]
  },
  {
   "cell_type": "markdown",
   "metadata": {
    "colab_type": "text",
    "id": "gITyvKlJKWdh"
   },
   "source": [
    "**Tache 4** 1pt\n",
    "\n",
    "Implémenter la fonction softmax stable (on décale les exponentielles grâce à alpha)\n",
    "\n",
    "$$ \\sigma_i = \\frac{\\exp{(a_i - alpha)}}{\\sum_k \\exp{(a_k - alpha)}}$$\n",
    "\n",
    "avec $$ alpha = \\max(a_k, 0) $$"
   ]
  },
  {
   "cell_type": "code",
   "execution_count": 7,
   "metadata": {
    "colab": {},
    "colab_type": "code",
    "id": "7LYky4LfKWdm"
   },
   "outputs": [],
   "source": [
    "def softmax(a):\n",
    "    \"\"\"\n",
    "    Calcule le softmax du batch de sortie de la couche.\n",
    "    :param a: la sortie de la couche (minibatch x n_out)\n",
    "    :type a: ndarray\n",
    "    :return: le softmax\n",
    "    :rtype: ndarray\n",
    "    \"\"\"\n",
    "    alpha = np.amax(a, initial=0, axis=1, keepdims=True)\n",
    "    z = np.exp(a - alpha)\n",
    "    den = np.sum(z, axis=1, keepdims=True)\n",
    "    return np.divide(z,den)"
   ]
  },
  {
   "cell_type": "code",
   "execution_count": 8,
   "metadata": {},
   "outputs": [
    {
     "data": {
      "text/plain": [
       "array([[0.2515184 , 0.688275  , 0.0602066 ],\n",
       "       [0.15822254, 0.70091391, 0.14086355]])"
      ]
     },
     "execution_count": 8,
     "metadata": {},
     "output_type": "execute_result"
    }
   ],
   "source": [
    "sm = softmax(Yt)\n",
    "one_hot = np.eye(2,3)\n",
    "sm"
   ]
  },
  {
   "cell_type": "markdown",
   "metadata": {
    "colab_type": "text",
    "id": "4BKLEUkNKWdo"
   },
   "source": [
    "**Tache 5** 1 pt\n",
    "\n",
    "Implémenter le calcul du gradient de l'erreur par rapport à la loss à $a_i$:\n",
    "$$\\delta a_i = \\sigma_i - 1_{i=l}$$\n",
    "où $l$ est l'étiquette associée à la donnée courante."
   ]
  },
  {
   "cell_type": "code",
   "execution_count": 9,
   "metadata": {
    "colab": {},
    "colab_type": "code",
    "id": "JNKTNt3gKWdp"
   },
   "outputs": [],
   "source": [
    "def gradient_out(out, one_hot_batch):\n",
    "    \"\"\"\n",
    "    Calcule le gradient par rapport à la sortie du softmax (on utilise la formule trouvé avec la loss)\n",
    "    :param out: Valeurs du softmax\n",
    "    :type out: ndarray\n",
    "    :param one_hot_batch: la représentation one-hot des labels\n",
    "    :type one_hot_batch: ndarray\n",
    "    :return: le gradient\n",
    "    :rtype: ndarray\n",
    "    \"\"\"\n",
    "    \n",
    "    return out - one_hot_batch"
   ]
  },
  {
   "cell_type": "code",
   "execution_count": 10,
   "metadata": {},
   "outputs": [
    {
     "data": {
      "text/plain": [
       "array([[-0.7484816 ,  0.688275  ,  0.0602066 ],\n",
       "       [ 0.15822254, -0.29908609,  0.14086355]])"
      ]
     },
     "execution_count": 10,
     "metadata": {},
     "output_type": "execute_result"
    }
   ],
   "source": [
    "gradient_out(sm, one_hot)"
   ]
  },
  {
   "cell_type": "markdown",
   "metadata": {
    "colab_type": "text",
    "id": "4-WxLD1nKWds"
   },
   "source": [
    "**Tache 6** 1pt\n",
    "\n",
    "Implémenter la fonction du calcul de gradient par rapport aux paramètres: $$\\delta W_{ij} = \\delta a_j x_i$$  $$\\delta b_{j} = \\delta a_j$$  (moyenne sur le batch)\n",
    "\n",
    "où $\\delta W_{ij}$ est la composante du gradient associée à l'arête reliant les unités $i$ et $j$, \n",
    "\n",
    "$\\delta b_{j}$ est la composante du gradient associée au bias de l'unité $j$, \n",
    "\n",
    "$\\delta a_j$ est le gradient de l'erreur par rapport à l'unité $j$"
   ]
  },
  {
   "cell_type": "code",
   "execution_count": 11,
   "metadata": {
    "colab": {},
    "colab_type": "code",
    "id": "hDB7Vc7nKWds"
   },
   "outputs": [],
   "source": [
    "def gradient(derror, X, batch_size):\n",
    "    \"\"\"\n",
    "        Calcule le gradient des paramètres\n",
    "        :param derror: le gradient de sortie\n",
    "        :param X: les entrées (minibatch_size x n_input)\n",
    "        :param minibatch_size: la taille du minibatch\n",
    "        :type derror: ndarray\n",
    "        :type minibatch: ndarray\n",
    "        :type minibatch_size: unsigned\n",
    "        :return: le gradient des paramètres\n",
    "        :rtype: ndarray, ndarray\n",
    "    \"\"\"\n",
    "    d_w = np.dot(np.transpose(X), derror)/batch_size\n",
    "    d_b = np.sum(derror, axis=0, keepdims=True)/batch_size\n",
    "        \n",
    "    return d_w, d_b"
   ]
  },
  {
   "cell_type": "markdown",
   "metadata": {
    "colab_type": "text",
    "id": "hBSv8LIlKWdu"
   },
   "source": [
    "**Tache 7** 1pt \n",
    "\n",
    "Implémenter la fonction de mise à jour des paramètres $$\\theta = \\theta - \\eta \\delta \\theta$$ où $\\theta$ est un paramètre du modèle et $\\delta \\theta$ la composante du gradient associée à $\\theta$."
   ]
  },
  {
   "cell_type": "code",
   "execution_count": 12,
   "metadata": {
    "colab": {},
    "colab_type": "code",
    "id": "RnPLmd-iKWdv"
   },
   "outputs": [],
   "source": [
    "def update(eta, W, b, grad_w, grad_b):\n",
    "    \"\"\"\n",
    "        Mise à jour des paramètres\n",
    "        :param eta: la step-size\n",
    "        :param W: les poids\n",
    "        :param b: le bias\n",
    "        :param grad_w: le gradient des poids\n",
    "        :param grad_b: le gradient du biais\n",
    "        :type eta: float\n",
    "        :type W: ndarray\n",
    "        :type b: ndarray\n",
    "        :type grad_w: ndarray\n",
    "        :type grad_b: ndarray\n",
    "        :return: les paramères mis à jour\n",
    "        :rtype: ndarray, ndarray\n",
    "    \"\"\"\n",
    "    return W - eta*grad_w , b - eta*grad_b"
   ]
  },
  {
   "cell_type": "markdown",
   "metadata": {
    "colab_type": "text",
    "id": "hzcMLu1KKWdx"
   },
   "source": [
    "## Algorithme d'apprentissage \n",
    "\n",
    "On a tout ce qu'il faut pour mettre en oeuvre l'apprentissage d'un modèle simple. Le modèle est simplement une couche neuronale de sortie, sans couche cachée. \n",
    "\n",
    "L'algorithme se déroule en 2 temps, tout d'abord la préparation: \n",
    "- init. du modèle\n",
    "- préparation des données et des variables permettant de stocker l'historique d'apprentissage\n",
    "- init. des paramètres de la SGD\n",
    "- définir le nombre d'époque comme une variable\n",
    "\n",
    "Puis vient la boucle d'apprentissage qui pour chaque époque effectue pour chaque exemple d'apprentissage : \n",
    "- inférence du modèle sur l'exemple d'apprentissage \n",
    "- calcul de la contribution de l'exemple à la  fonction objectif, et également au taux d'erreur de classification\n",
    "- Calcul du gradient de sortie\n",
    "- Mise à jour du modèle"
   ]
  },
  {
   "cell_type": "markdown",
   "metadata": {},
   "source": [
    "**Tache 8** 1pt\n",
    "\n",
    "Calculer la log loss"
   ]
  },
  {
   "cell_type": "code",
   "execution_count": 13,
   "metadata": {},
   "outputs": [],
   "source": [
    "def log_loss(y, one_hot_batch):\n",
    "    \"\"\"\n",
    "    Calcul de la loss\n",
    "    :param y: la sortie du softmax\n",
    "    :type y: ndarray\n",
    "    :param one_hot_batch: les labels en one_hot\n",
    "    :type one_hot_batch: ndarray\n",
    "    \"\"\"\n",
    "    return -np.sum(np.log(y) * one_hot_batch) / one_hot_batch.shape[0]"
   ]
  },
  {
   "cell_type": "code",
   "execution_count": 14,
   "metadata": {
    "scrolled": true
   },
   "outputs": [
    {
     "data": {
      "text/plain": [
       "0.8678046735018387"
      ]
     },
     "execution_count": 14,
     "metadata": {},
     "output_type": "execute_result"
    }
   ],
   "source": [
    "log_loss(sm, one_hot)"
   ]
  },
  {
   "cell_type": "code",
   "execution_count": 15,
   "metadata": {},
   "outputs": [
    {
     "data": {
      "text/plain": [
       "[(1, 2), (3, 4)]"
      ]
     },
     "execution_count": 15,
     "metadata": {},
     "output_type": "execute_result"
    }
   ],
   "source": [
    "a = [1, 2]\n",
    "b = [3, 4]\n",
    "c = zip(a, b)\n",
    "list(zip(*c))"
   ]
  },
  {
   "cell_type": "markdown",
   "metadata": {},
   "source": [
    "**Tache 9** 2pt\n",
    "\n",
    "Programmez la fonction d'entrainement"
   ]
  },
  {
   "cell_type": "code",
   "execution_count": 16,
   "metadata": {},
   "outputs": [],
   "source": [
    "def train(W, b, train_X, train_Y, train_Y_onehot, valid_X, valid_Y, valid_Y_onehot, batch_size=64, epochs=100, eta_0=0.01, eta_dec=0.2):\n",
    "    \n",
    "    rand = random.Random()\n",
    "    rand.seed(a=1)\n",
    "    \n",
    "    losses = []\n",
    "    \n",
    "    f1_batch = []\n",
    "    f1_valid = []\n",
    "    \n",
    "    Ws, bs = [W], [b]\n",
    "    \n",
    "    iteration_counter = 0\n",
    "    for e in range(epochs):\n",
    "        print(f\"epochs : {e}\")\n",
    "        \n",
    "        z = list(zip(train_X, train_Y, train_Y_onehot))\n",
    "        rand.shuffle(z)\n",
    "        \n",
    "        unzip = list(zip(*z))\n",
    "        train_X, train_Y, train_Y_onehot = list(unzip[0]), list(unzip[1]), list(unzip[2])\n",
    "        \n",
    "        for i in range(0, len(train_X), batch_size):            \n",
    "            batch_x = train_X[i: min(i + batch_size, len(train_X))]\n",
    "            batch_y = train_Y[i: min(i + batch_size, len(train_Y))]\n",
    "            batch_y_onehot = train_Y_onehot[i: min(i + batch_size, len(train_Y_onehot))]\n",
    "            \n",
    "            preds = forward(W, b, batch_x)\n",
    "            #print(preds.shape)\n",
    "            \n",
    "            preds = softmax(forward(W, b, batch_x))\n",
    "            \n",
    "            f1_batch.append(f1_score(np.array(batch_y, dtype=int), np.argmax(preds, axis=1), average='micro',\n",
    "                            labels=[i for i in range(4)]))\n",
    "            \n",
    "            losses.append(log_loss(preds, np.array(batch_y_onehot)))\n",
    "            #print(losses[-1])\n",
    "            \n",
    "            grad_w, grad_b = gradient(gradient_out(preds, batch_y_onehot), batch_x, batch_size)\n",
    "            \n",
    "            eta = eta_0 / (1 + eta_dec * iteration_counter)\n",
    "            W, b = update(eta, W, b, grad_w, grad_b)\n",
    "            Ws.append(W)\n",
    "            bs.append(b)\n",
    "            \n",
    "            iteration_counter += 1\n",
    "                        \n",
    "\n",
    "        preds_valid = softmax(forward(W, b, np.array(valid_X)))\n",
    "        \n",
    "        f1_valid.append(f1_score(np.array(valid_Y, dtype=int), np.argmax(preds_valid, axis=1), average='micro',\n",
    "                            labels=[i for i in range(4)]))\n",
    "            \n",
    "    return Ws, bs, f1_batch, f1_valid, losses            \n",
    "            "
   ]
  },
  {
   "cell_type": "code",
   "execution_count": 17,
   "metadata": {},
   "outputs": [],
   "source": [
    "train_X = X[:1500]\n",
    "train_Y = Y[:1500]\n",
    "train_Y_nhot = Y_nonehot[:1500]\n",
    "\n",
    "valid_X = X[1500:1800]\n",
    "valid_Y = Y[1500:1800]\n",
    "valid_Y_nhot = Y_nonehot[1500:1800]\n",
    "\n",
    "test_X = X[1800:]\n",
    "test_Y = Y[1800:]\n",
    "test_Y_nhot = Y_nonehot[1800:]"
   ]
  },
  {
   "cell_type": "code",
   "execution_count": 18,
   "metadata": {
    "scrolled": false
   },
   "outputs": [
    {
     "name": "stdout",
     "output_type": "stream",
     "text": [
      "[0 0 0 ... 0 0 0]\n",
      "[0. 0. 0. 1.]\n",
      "3\n"
     ]
    }
   ],
   "source": [
    "print(train_X[10])\n",
    "print(train_Y[10])\n",
    "print(train_Y_nhot[10])"
   ]
  },
  {
   "cell_type": "code",
   "execution_count": 19,
   "metadata": {
    "scrolled": true
   },
   "outputs": [
    {
     "name": "stdout",
     "output_type": "stream",
     "text": [
      "epochs : 0\n",
      "epochs : 1\n",
      "epochs : 2\n",
      "epochs : 3\n",
      "epochs : 4\n",
      "epochs : 5\n",
      "epochs : 6\n",
      "epochs : 7\n",
      "epochs : 8\n",
      "epochs : 9\n",
      "epochs : 10\n",
      "epochs : 11\n",
      "epochs : 12\n",
      "epochs : 13\n",
      "epochs : 14\n",
      "epochs : 15\n",
      "epochs : 16\n",
      "epochs : 17\n",
      "epochs : 18\n",
      "epochs : 19\n",
      "epochs : 20\n",
      "epochs : 21\n",
      "epochs : 22\n",
      "epochs : 23\n",
      "epochs : 24\n",
      "epochs : 25\n",
      "epochs : 26\n",
      "epochs : 27\n",
      "epochs : 28\n",
      "epochs : 29\n",
      "epochs : 30\n",
      "epochs : 31\n",
      "epochs : 32\n",
      "epochs : 33\n",
      "epochs : 34\n",
      "epochs : 35\n",
      "epochs : 36\n",
      "epochs : 37\n",
      "epochs : 38\n",
      "epochs : 39\n",
      "epochs : 40\n",
      "epochs : 41\n",
      "epochs : 42\n",
      "epochs : 43\n",
      "epochs : 44\n",
      "epochs : 45\n",
      "epochs : 46\n",
      "epochs : 47\n",
      "epochs : 48\n",
      "epochs : 49\n",
      "epochs : 50\n",
      "epochs : 51\n",
      "epochs : 52\n",
      "epochs : 53\n",
      "epochs : 54\n",
      "epochs : 55\n",
      "epochs : 56\n",
      "epochs : 57\n",
      "epochs : 58\n",
      "epochs : 59\n",
      "epochs : 60\n",
      "epochs : 61\n",
      "epochs : 62\n",
      "epochs : 63\n",
      "epochs : 64\n",
      "epochs : 65\n",
      "epochs : 66\n",
      "epochs : 67\n",
      "epochs : 68\n",
      "epochs : 69\n",
      "epochs : 70\n",
      "epochs : 71\n",
      "epochs : 72\n",
      "epochs : 73\n",
      "epochs : 74\n",
      "epochs : 75\n",
      "epochs : 76\n",
      "epochs : 77\n",
      "epochs : 78\n",
      "epochs : 79\n",
      "epochs : 80\n",
      "epochs : 81\n",
      "epochs : 82\n",
      "epochs : 83\n",
      "epochs : 84\n",
      "epochs : 85\n",
      "epochs : 86\n",
      "epochs : 87\n",
      "epochs : 88\n",
      "epochs : 89\n",
      "epochs : 90\n",
      "epochs : 91\n",
      "epochs : 92\n",
      "epochs : 93\n",
      "epochs : 94\n",
      "epochs : 95\n",
      "epochs : 96\n",
      "epochs : 97\n",
      "epochs : 98\n",
      "epochs : 99\n"
     ]
    }
   ],
   "source": [
    "W, b = init(len(X[0]), 4)\n",
    "Ws, bs, f1_batch, f1_valid,losses = train(W, b, train_X, train_Y_nhot, train_Y, valid_X, valid_Y_nhot, valid_Y, eta_0=0.01, eta_dec=0.001, epochs=100)"
   ]
  },
  {
   "cell_type": "markdown",
   "metadata": {
    "colab_type": "text",
    "id": "iZEhLDilKWd0"
   },
   "source": [
    "**Tache 10** 1 pt\n",
    "\n",
    "Affichez les courbes de loss et de f1."
   ]
  },
  {
   "cell_type": "code",
   "execution_count": 20,
   "metadata": {
    "colab": {},
    "colab_type": "code",
    "id": "m6m06X92KWd1"
   },
   "outputs": [
    {
     "data": {
      "image/png": "[encoded data removed]",
      "text/plain": [
       "<Figure size 432x288 with 1 Axes>"
      ]
     },
     "metadata": {
      "needs_background": "light"
     },
     "output_type": "display_data"
    }
   ],
   "source": [
    "plt.plot([i/(len(f1_batch)/len(f1_valid)) for i in range(len(f1_batch))],f1_batch, color='red', label='f1 of batches')\n",
    "plt.plot([i for i in range(len(f1_valid))], f1_valid, color='blue', label='f1 of validation')\n",
    "plt.legend(loc='best')\n",
    "#plt.plot(np.linspace(0, len(error_test), 10), error_valid, color='blue')\n",
    "plt.show()\n",
    "#print(np.sum(error_valid[-100:])/100)"
   ]
  },
  {
   "cell_type": "code",
   "execution_count": 21,
   "metadata": {},
   "outputs": [
    {
     "data": {
      "image/png": "[encoded data removed]",
      "text/plain": [
       "<Figure size 432x288 with 1 Axes>"
      ]
     },
     "metadata": {
      "needs_background": "light"
     },
     "output_type": "display_data"
    }
   ],
   "source": [
    "plt.plot(losses, color='red')\n",
    "#plt.plot(loss_valid, color='blue')\n",
    "plt.show()"
   ]
  },
  {
   "cell_type": "markdown",
   "metadata": {},
   "source": [
    "# Partie 2 :  PyTorch"
   ]
  },
  {
   "cell_type": "markdown",
   "metadata": {},
   "source": [
    "Le but de cette section est de répliquer ce que vous avez fait à la main grâce à une librairie spécialisée.\n",
    "\n",
    "Cette librairie est Pytorch.\n",
    "\n",
    "Dans cette librairie vous retrouverez la gestion des poids sous forme de couches dans le sous-module nn.\n",
    "La gestion du gradient est quasiment automatique.\n",
    "\n",
    "Le jeu de données sera toujours les vecteurs BoW obtenus."
   ]
  },
  {
   "cell_type": "code",
   "execution_count": 22,
   "metadata": {},
   "outputs": [],
   "source": [
    "train_X = X[:1500]\n",
    "train_Y = Y[:1500]\n",
    "train_Y_nhot = Y_nonehot[:1500]\n",
    "\n",
    "valid_X = X[1500:]\n",
    "valid_Y = Y[1500:]\n",
    "valid_Y_nhot = Y_nonehot[1500:]\n"
   ]
  },
  {
   "cell_type": "code",
   "execution_count": 23,
   "metadata": {},
   "outputs": [],
   "source": [
    "import torch as T\n",
    "import torch.nn as nn\n",
    "import torch.nn.functional as F\n",
    "import torch.utils.data as data\n",
    "from sklearn.metrics import f1_score\n",
    "\n",
    "#device = 'cuda' if T.cuda.is_available() else 'cpu'"
   ]
  },
  {
   "cell_type": "markdown",
   "metadata": {},
   "source": [
    "**Tache 11** 3 pt\n",
    "\n",
    "Implémentez le même modèle que précédemment.\n",
    "\n",
    "Utilisez les couches Linear et LogSoftmax (les probabilités sont souvent des logs probabilités).\n",
    "Cherchez dans la documentation de torch.nn pour les couches."
   ]
  },
  {
   "cell_type": "code",
   "execution_count": 24,
   "metadata": {},
   "outputs": [],
   "source": [
    "class Model(nn.Module): # pour faire un modèle dans pytorch il faut instancier la classe nn.Module\n",
    "    def __init__(self, in_dim, out_dim):\n",
    "        super(Model, self).__init__()\n",
    "        self.linear1 = nn.Linear(in_dim, out_dim) # Ici se trouve la couche Wx + b\n",
    "        self.softmax = nn.LogSoftmax(dim=1) # Pour pytorch, la plupars des fonction fonctionne avec des logarithmes\n",
    "        \n",
    "        \n",
    "    def forward(self, inputs):\n",
    "        # Quelque soit le modèle, il vous faut une fonction forward\n",
    "        # Pour calculer la sortie d'une couche : y = couche(x) avec x un tensor\n",
    "        y = self.linear1(inputs)\n",
    "        preds = self.softmax(y)\n",
    "        return preds    "
   ]
  },
  {
   "cell_type": "markdown",
   "metadata": {},
   "source": [
    "**Tache 12** 2pt\n",
    "\n",
    "Complétez la boucle d'entraînement."
   ]
  },
  {
   "cell_type": "code",
   "execution_count": 25,
   "metadata": {},
   "outputs": [],
   "source": [
    "def collate(batch):\n",
    "    transposed_data = list(zip(*batch))\n",
    "    return T.stack(transposed_data[0], 0), T.stack(transposed_data[1], 0)\n",
    "\n",
    "def train(train_X, train_Y, valid_X, valid_Y, epochs=100, batch_size=64, lr = 1e-3):\n",
    "    \n",
    "    model = Model(len(train_X[0]), 4)\n",
    "    \n",
    "    opti = T.optim.Adam(model.parameters(), lr=lr)\n",
    "    criterion = nn.NLLLoss() # Pour calculer la crossentropy, il faut calculer la NLLL après un logsofmax\n",
    "    \n",
    "    \n",
    "    ## Transformation des données pour l'entraînement\n",
    "    #trn_X = [T.tensor(x, dtype=T.long) for x in train_X]\n",
    "    #trn_Y = [T.tensor(y, dtype=T.long) for y in train_Y]\n",
    "    \n",
    "    #vld_X = [T.tensor(x, dtype=T.long) for x in valid_X]\n",
    "    #vld_Y = [T.tensor(y, dtype=T.long) for y in valid_Y]\n",
    "    \n",
    "    trn_X = T.tensor(train_X, dtype=T.float)\n",
    "    trn_Y = T.tensor(train_Y, dtype=T.long)\n",
    "    \n",
    "    vld_X = T.tensor(valid_X, dtype=T.float)\n",
    "    vld_Y = T.tensor(valid_Y, dtype=T.long)\n",
    "    \n",
    "    train_set = data.TensorDataset(trn_X, trn_Y)\n",
    "    valid_set = data.TensorDataset(vld_X, vld_Y)\n",
    "    \n",
    "    \n",
    "    ## Creation des loaders\n",
    "    train_sampler = data.BatchSampler(data.RandomSampler(range(len(train_X))), batch_size, False)\n",
    "    valid_sampler = data.BatchSampler(data.SequentialSampler(range(len(valid_X))), len(valid_X), False)\n",
    "    \n",
    "    train_loader = data.DataLoader(train_set, batch_sampler=train_sampler, collate_fn=collate)\n",
    "    valid_loader = data.DataLoader(valid_set, batch_sampler=valid_sampler, collate_fn=collate)\n",
    "    \n",
    "    \n",
    "    losses = []\n",
    "    f1_valid = []\n",
    "    \n",
    "    for e in range(epochs):\n",
    "        \n",
    "        model.train() #passe votre modele en phase d'entrainement \n",
    "        \n",
    "        for batch_ndx, (trn_x, trn_y) in enumerate(train_loader):\n",
    "            opti.zero_grad()\n",
    "            \n",
    "            preds = model(trn_x)\n",
    "            loss = criterion(preds, trn_y)\n",
    "            losses.append(loss.item())\n",
    "            loss.backward()\n",
    "            opti.step()\n",
    "            \n",
    "        opti.zero_grad()\n",
    "        model.eval()\n",
    "        \n",
    "        for batch_ndx, (vld_x, vld_y) in enumerate(valid_loader):\n",
    "            \n",
    "            preds_val = model(vld_x)\n",
    "            preds = T.argmax(preds_val, dim=1)\n",
    "            f1_valid.append(f1_score(vld_y.to('cpu').numpy(), preds.to('cpu').numpy(), average='micro',\n",
    "                            labels=[i for i in range(4)]))\n",
    "        print(f\"F1 {e}/{epochs}: {f1_valid[-1]}\")\n",
    "    \n",
    "    return model, losses, f1_valid\n",
    "        "
   ]
  },
  {
   "cell_type": "code",
   "execution_count": 26,
   "metadata": {
    "scrolled": true
   },
   "outputs": [
    {
     "name": "stdout",
     "output_type": "stream",
     "text": [
      "F1 0/200: 0.39600665557404324\n",
      "F1 1/200: 0.4908485856905158\n",
      "F1 2/200: 0.5657237936772047\n",
      "F1 3/200: 0.5956738768718802\n",
      "F1 4/200: 0.6039933444259568\n",
      "F1 5/200: 0.6089850249584027\n",
      "F1 6/200: 0.6139767054908486\n",
      "F1 7/200: 0.6139767054908486\n",
      "F1 8/200: 0.6123128119800333\n",
      "F1 9/200: 0.610648918469218\n",
      "F1 10/200: 0.6156405990016639\n",
      "F1 11/200: 0.6173044925124792\n",
      "F1 12/200: 0.6173044925124792\n",
      "F1 13/200: 0.6139767054908486\n",
      "F1 14/200: 0.6139767054908486\n",
      "F1 15/200: 0.6156405990016639\n",
      "F1 16/200: 0.6173044925124792\n",
      "F1 17/200: 0.6189683860232945\n",
      "F1 18/200: 0.6173044925124792\n",
      "F1 19/200: 0.6139767054908486\n",
      "F1 20/200: 0.6139767054908486\n",
      "F1 21/200: 0.6156405990016639\n",
      "F1 22/200: 0.6156405990016639\n",
      "F1 23/200: 0.6139767054908486\n",
      "F1 24/200: 0.6123128119800333\n",
      "F1 25/200: 0.6123128119800333\n",
      "F1 26/200: 0.6123128119800333\n",
      "F1 27/200: 0.610648918469218\n",
      "F1 28/200: 0.610648918469218\n",
      "F1 29/200: 0.610648918469218\n",
      "F1 30/200: 0.6123128119800333\n",
      "F1 31/200: 0.6123128119800333\n",
      "F1 32/200: 0.610648918469218\n",
      "F1 33/200: 0.6123128119800333\n",
      "F1 34/200: 0.6123128119800333\n",
      "F1 35/200: 0.6139767054908486\n",
      "F1 36/200: 0.6156405990016639\n",
      "F1 37/200: 0.6173044925124792\n",
      "F1 38/200: 0.6173044925124792\n",
      "F1 39/200: 0.6173044925124792\n",
      "F1 40/200: 0.6173044925124792\n",
      "F1 41/200: 0.6189683860232945\n",
      "F1 42/200: 0.6206322795341098\n",
      "F1 43/200: 0.6206322795341098\n",
      "F1 44/200: 0.6239600665557404\n",
      "F1 45/200: 0.6239600665557404\n",
      "F1 46/200: 0.6222961730449251\n",
      "F1 47/200: 0.6256239600665557\n",
      "F1 48/200: 0.6256239600665557\n",
      "F1 49/200: 0.6256239600665557\n",
      "F1 50/200: 0.6256239600665557\n",
      "F1 51/200: 0.6256239600665557\n",
      "F1 52/200: 0.627287853577371\n",
      "F1 53/200: 0.627287853577371\n",
      "F1 54/200: 0.6289517470881864\n",
      "F1 55/200: 0.6306156405990017\n",
      "F1 56/200: 0.632279534109817\n",
      "F1 57/200: 0.632279534109817\n",
      "F1 58/200: 0.632279534109817\n",
      "F1 59/200: 0.632279534109817\n",
      "F1 60/200: 0.6339434276206323\n",
      "F1 61/200: 0.6339434276206323\n",
      "F1 62/200: 0.6356073211314476\n",
      "F1 63/200: 0.6356073211314476\n",
      "F1 64/200: 0.6356073211314476\n",
      "F1 65/200: 0.6356073211314476\n",
      "F1 66/200: 0.6356073211314476\n",
      "F1 67/200: 0.6356073211314476\n",
      "F1 68/200: 0.6356073211314476\n",
      "F1 69/200: 0.6356073211314476\n",
      "F1 70/200: 0.6372712146422629\n",
      "F1 71/200: 0.6372712146422629\n",
      "F1 72/200: 0.6372712146422629\n",
      "F1 73/200: 0.6389351081530782\n",
      "F1 74/200: 0.6405990016638935\n",
      "F1 75/200: 0.6405990016638935\n",
      "F1 76/200: 0.6405990016638935\n",
      "F1 77/200: 0.6405990016638935\n",
      "F1 78/200: 0.6405990016638935\n",
      "F1 79/200: 0.6405990016638935\n",
      "F1 80/200: 0.6405990016638935\n",
      "F1 81/200: 0.6405990016638935\n",
      "F1 82/200: 0.6405990016638935\n",
      "F1 83/200: 0.6422628951747088\n",
      "F1 84/200: 0.6422628951747088\n",
      "F1 85/200: 0.6455906821963394\n",
      "F1 86/200: 0.6455906821963394\n",
      "F1 87/200: 0.6455906821963394\n",
      "F1 88/200: 0.6455906821963394\n",
      "F1 89/200: 0.6455906821963394\n",
      "F1 90/200: 0.6455906821963394\n",
      "F1 91/200: 0.6455906821963394\n",
      "F1 92/200: 0.6472545757071547\n",
      "F1 93/200: 0.6472545757071547\n",
      "F1 94/200: 0.6472545757071547\n",
      "F1 95/200: 0.6472545757071547\n",
      "F1 96/200: 0.6472545757071547\n",
      "F1 97/200: 0.6472545757071547\n",
      "F1 98/200: 0.64891846921797\n",
      "F1 99/200: 0.6505823627287853\n",
      "F1 100/200: 0.6505823627287853\n",
      "F1 101/200: 0.6505823627287853\n",
      "F1 102/200: 0.6522462562396006\n",
      "F1 103/200: 0.653910149750416\n",
      "F1 104/200: 0.653910149750416\n",
      "F1 105/200: 0.653910149750416\n",
      "F1 106/200: 0.6555740432612313\n",
      "F1 107/200: 0.6555740432612313\n",
      "F1 108/200: 0.6555740432612313\n",
      "F1 109/200: 0.6572379367720466\n",
      "F1 110/200: 0.6572379367720466\n",
      "F1 111/200: 0.6572379367720466\n",
      "F1 112/200: 0.6572379367720466\n",
      "F1 113/200: 0.6589018302828619\n",
      "F1 114/200: 0.6605657237936772\n",
      "F1 115/200: 0.6638935108153078\n",
      "F1 116/200: 0.6638935108153078\n",
      "F1 117/200: 0.6638935108153078\n",
      "F1 118/200: 0.6655574043261231\n",
      "F1 119/200: 0.6655574043261231\n",
      "F1 120/200: 0.6638935108153078\n",
      "F1 121/200: 0.6638935108153078\n",
      "F1 122/200: 0.6655574043261231\n",
      "F1 123/200: 0.6655574043261231\n",
      "F1 124/200: 0.6655574043261231\n",
      "F1 125/200: 0.6655574043261231\n",
      "F1 126/200: 0.6672212978369384\n",
      "F1 127/200: 0.6672212978369384\n",
      "F1 128/200: 0.6672212978369384\n",
      "F1 129/200: 0.6672212978369384\n",
      "F1 130/200: 0.6672212978369384\n",
      "F1 131/200: 0.6672212978369384\n",
      "F1 132/200: 0.6672212978369384\n",
      "F1 133/200: 0.6672212978369384\n",
      "F1 134/200: 0.6672212978369384\n",
      "F1 135/200: 0.6672212978369384\n",
      "F1 136/200: 0.6655574043261231\n",
      "F1 137/200: 0.6655574043261231\n",
      "F1 138/200: 0.6655574043261231\n",
      "F1 139/200: 0.6655574043261231\n",
      "F1 140/200: 0.6655574043261231\n",
      "F1 141/200: 0.6655574043261231\n",
      "F1 142/200: 0.6655574043261231\n",
      "F1 143/200: 0.6655574043261231\n",
      "F1 144/200: 0.6655574043261231\n",
      "F1 145/200: 0.6655574043261231\n",
      "F1 146/200: 0.6655574043261231\n",
      "F1 147/200: 0.6655574043261231\n",
      "F1 148/200: 0.6672212978369384\n",
      "F1 149/200: 0.6672212978369384\n",
      "F1 150/200: 0.6688851913477537\n",
      "F1 151/200: 0.6688851913477537\n",
      "F1 152/200: 0.6688851913477537\n",
      "F1 153/200: 0.6688851913477537\n",
      "F1 154/200: 0.6688851913477537\n",
      "F1 155/200: 0.6688851913477537\n",
      "F1 156/200: 0.670549084858569\n",
      "F1 157/200: 0.670549084858569\n",
      "F1 158/200: 0.6738768718801996\n",
      "F1 159/200: 0.6738768718801996\n",
      "F1 160/200: 0.6738768718801996\n",
      "F1 161/200: 0.6738768718801996\n",
      "F1 162/200: 0.6755407653910149\n",
      "F1 163/200: 0.6738768718801996\n",
      "F1 164/200: 0.6738768718801996\n",
      "F1 165/200: 0.6738768718801996\n",
      "F1 166/200: 0.6755407653910149\n",
      "F1 167/200: 0.6772046589018302\n",
      "F1 168/200: 0.6772046589018302\n",
      "F1 169/200: 0.6788685524126455\n",
      "F1 170/200: 0.6805324459234608\n",
      "F1 171/200: 0.6805324459234608\n",
      "F1 172/200: 0.6805324459234608\n",
      "F1 173/200: 0.6805324459234608\n",
      "F1 174/200: 0.6805324459234608\n",
      "F1 175/200: 0.6805324459234608\n",
      "F1 176/200: 0.6805324459234608\n",
      "F1 177/200: 0.6805324459234608\n",
      "F1 178/200: 0.6805324459234608\n",
      "F1 179/200: 0.6805324459234608\n",
      "F1 180/200: 0.6805324459234608\n",
      "F1 181/200: 0.6805324459234608\n",
      "F1 182/200: 0.6805324459234608\n",
      "F1 183/200: 0.6821963394342762\n",
      "F1 184/200: 0.6821963394342762\n",
      "F1 185/200: 0.6821963394342762\n",
      "F1 186/200: 0.6821963394342762\n",
      "F1 187/200: 0.6821963394342762\n",
      "F1 188/200: 0.6821963394342762\n",
      "F1 189/200: 0.6821963394342762\n",
      "F1 190/200: 0.6821963394342762\n",
      "F1 191/200: 0.6821963394342762\n",
      "F1 192/200: 0.6821963394342762\n",
      "F1 193/200: 0.6805324459234608\n",
      "F1 194/200: 0.6805324459234608\n",
      "F1 195/200: 0.6805324459234608\n",
      "F1 196/200: 0.6821963394342762\n",
      "F1 197/200: 0.6821963394342762\n",
      "F1 198/200: 0.6821963394342762\n",
      "F1 199/200: 0.6805324459234608\n"
     ]
    }
   ],
   "source": [
    "model, losses, f1_valid = train(train_X, train_Y_nhot, valid_X, valid_Y_nhot, epochs=200, lr=1e-4)"
   ]
  },
  {
   "cell_type": "code",
   "execution_count": 27,
   "metadata": {
    "scrolled": true
   },
   "outputs": [
    {
     "data": {
      "image/png": "[encoded data removed]",
      "text/plain": [
       "<Figure size 432x288 with 1 Axes>"
      ]
     },
     "metadata": {
      "needs_background": "light"
     },
     "output_type": "display_data"
    }
   ],
   "source": [
    "plt.plot([x/(len(losses)/100) for x in range(len(losses))],losses, label=\"loss\")\n",
    "plt.legend(loc='best')\n",
    "plt.show()"
   ]
  },
  {
   "cell_type": "code",
   "execution_count": 28,
   "metadata": {},
   "outputs": [
    {
     "data": {
      "image/png": "[encoded data removed]",
      "text/plain": [
       "<Figure size 432x288 with 1 Axes>"
      ]
     },
     "metadata": {
      "needs_background": "light"
     },
     "output_type": "display_data"
    }
   ],
   "source": [
    "plt.plot(f1_valid, label='f1')\n",
    "plt.legend(loc='best')\n",
    "plt.show()"
   ]
  },
  {
   "cell_type": "markdown",
   "metadata": {},
   "source": [
    "C'est super! Vous avez fini. N'hésitez pas à utiliser ce modèle comme base pour votre projet."
   ]
  }
 ],
 "metadata": {
  "colab": {
   "name": "TP1.ipynb",
   "provenance": [],
   "version": "0.3.2"
  },
  "kernelspec": {
   "display_name": "Python 3",
   "language": "python",
   "name": "python3"
  },
  "language_info": {
   "codemirror_mode": {
    "name": "ipython",
    "version": 3
   },
   "file_extension": ".py",
   "mimetype": "text/x-python",
   "name": "python",
   "nbconvert_exporter": "python",
   "pygments_lexer": "ipython3",
   "version": "3.8.5"
  }
 },
 "nbformat": 4,
 "nbformat_minor": 1
}
