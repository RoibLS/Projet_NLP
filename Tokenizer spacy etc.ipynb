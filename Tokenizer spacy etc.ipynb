{
 "cells": [
  {
   "cell_type": "code",
   "execution_count": 2,
   "id": "97ec9026",
   "metadata": {},
   "outputs": [],
   "source": [
    "# Les imports sont préparé ici\n",
    "# n'enlevez pas les % car il permettent le reload de modules ou l'affichage dans le notebook\n",
    "%matplotlib inline\n",
    "%load_ext autoreload\n",
    "%autoreload 2\n",
    "import os\n",
    "import numpy as np\n",
    "import random\n",
    "import pickle as pkl\n",
    "import re\n",
    "import matplotlib.pyplot as plt\n",
    "import platform\n",
    "from sklearn.metrics import f1_score\n",
    "import spacy\n",
    "from spacy import displacy"
   ]
  },
  {
   "cell_type": "code",
   "execution_count": 16,
   "id": "af540520",
   "metadata": {},
   "outputs": [],
   "source": [
    "#reading files\n",
    "#Méthode qui renvoie un tableau contenant les lignes des consensus uniquement \n",
    "def readingfile(file):\n",
    "    if platform.system() == 'Windows':\n",
    "        f1 = open(file, \"r\", encoding = \"UTF-8\")\n",
    "    else:\n",
    "        f1 = open(file, \"r\")\n",
    "\n",
    "    data_ = []\n",
    "    data_cons = []\n",
    "\n",
    "    rows = f1.readlines()\n",
    "    for line in rows:   #on itère sur les lignes\n",
    "\n",
    "            #line.decode(\"utf-8\")\n",
    "        en_tete=line.split(')')[0]                                      #On récupère seulement l'en_tete de chaque ligne\n",
    "        if \"consensus\" in en_tete:                                        #On vérifie que cet entete contient le consensus\n",
    "            data_.append(line.split(')')[1])                                          #si on a consensus dans la ligne courante on l'ajoute au tableau de renvoie\n",
    "            data_cons.append(line)\n",
    "            \n",
    "    # closing files\n",
    "    f1.close()\n",
    "\n",
    "    return data_, data_cons\n"
   ]
  },
  {
   "cell_type": "code",
   "execution_count": 27,
   "id": "323077c3",
   "metadata": {},
   "outputs": [],
   "source": [
    "file = \"train_label_temp3.txt\"\n",
    "data, datacons = readingfile(file)\n"
   ]
  },
  {
   "cell_type": "code",
   "execution_count": 32,
   "id": "ca60d4f8",
   "metadata": {},
   "outputs": [
    {
     "data": {
      "text/plain": [
       "array([[ 5983625672228268878,                   91,                    0,\n",
       "                           1],\n",
       "       [ 1703489418272052182,                   92,                    0,\n",
       "                           1],\n",
       "       [17494803046312582752,                   97,                    0,\n",
       "                           0]], dtype=uint64)"
      ]
     },
     "execution_count": 32,
     "metadata": {},
     "output_type": "execute_result"
    }
   ],
   "source": [
    "from spacy.attrs import LOWER, POS, ENT_TYPE, IS_ALPHA\n",
    "from spacy.tokens import Doc\n",
    "nlp = spacy.load(\"en_core_web_sm\")\n",
    "doc = nlp(\"Hello world!\")\n",
    "np_array = doc.to_array([LOWER, POS, ENT_TYPE, IS_ALPHA])\n",
    "doc2 = Doc(doc.vocab, words=[t.text for t in doc])\n",
    "doc2.from_array([LOWER, POS, ENT_TYPE, IS_ALPHA], np_array)\n",
    "np_array"
   ]
  },
  {
   "cell_type": "code",
   "execution_count": null,
   "id": "11f28a82",
   "metadata": {},
   "outputs": [],
   "source": [
    "nlp_en = spacy.load(\"en_core_web_sm\")\n",
    "#nlp_fr = spacy.load(\"fr_core_news_sm\")\n",
    "\n",
    "list_doc = []\n",
    "\n",
    "for i in data :\n",
    "    doc = nlp_en(i)\n",
    "    list_doc.append(doc)\n",
    "\n",
    "    \n",
    "c_doc = Doc.from_docs(list_doc)\n",
    "    \n",
    "    \n",
    "for token in c_doc :\n",
    "    print(token.text)\n"
   ]
  },
  {
   "cell_type": "code",
   "execution_count": 13,
   "id": "e5a0cb00",
   "metadata": {},
   "outputs": [
    {
     "name": "stdout",
     "output_type": "stream",
     "text": [
      " \t0\t \tFalse\tTrue\t \tSPACE\t_SP\t\n",
      "#\t1\t#\tTrue\tFalse\t#\tSYM\t$\t\n",
      "Microsoft\t2\tMicrosoft\tFalse\tFalse\tXxxxx\tPROPN\tNNP\tORG\n",
      "lanza\t12\tlanza\tFalse\tFalse\txxxx\tADJ\tJJ\t\n",
      "sitio\t18\tsitio\tFalse\tFalse\txxxx\tNOUN\tNN\t\n",
      "oficial\t24\toficial\tFalse\tFalse\txxxx\tADJ\tJJ\t\n",
      "de\t32\tde\tFalse\tFalse\txx\tADP\tIN\t\n",
      "#\t35\t#\tTrue\tFalse\t#\tX\tFW\t\n",
      "Skype\t36\tSkype\tFalse\tFalse\tXxxxx\tPROPN\tNNP\t\n",
      "http://t.co/fWDALlIe\t42\thttp://t.co/fwdallie\tFalse\tFalse\txxxx://x.xx/xXXXXxXx\tNUM\tCD\t\n"
     ]
    }
   ],
   "source": [
    "for token in doc:\n",
    "    print(\"{0}\\t{1}\\t{2}\\t{3}\\t{4}\\t{5}\\t{6}\\t{7}\\t{8}\".format(\n",
    "        token.text,\n",
    "        token.idx,\n",
    "        token.lemma_,\n",
    "        token.is_punct,\n",
    "        token.is_space,\n",
    "        token.shape_,\n",
    "        token.pos_,\n",
    "        token.tag_,\n",
    "        token.ent_type_\n",
    "    ))"
   ]
  },
  {
   "cell_type": "code",
   "execution_count": null,
   "id": "6596a60d",
   "metadata": {},
   "outputs": [],
   "source": []
  }
 ],
 "metadata": {
  "kernelspec": {
   "display_name": "Python 3",
   "language": "python",
   "name": "python3"
  },
  "language_info": {
   "codemirror_mode": {
    "name": "ipython",
    "version": 3
   },
   "file_extension": ".py",
   "mimetype": "text/x-python",
   "name": "python",
   "nbconvert_exporter": "python",
   "pygments_lexer": "ipython3",
   "version": "3.6.13"
  }
 },
 "nbformat": 4,
 "nbformat_minor": 5
}
