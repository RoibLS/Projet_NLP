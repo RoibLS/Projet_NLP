{
 "cells": [
  {
   "cell_type": "code",
   "execution_count": 1,
   "id": "97ec9026",
   "metadata": {},
   "outputs": [],
   "source": [
    "# Les imports sont préparé ici\n",
    "# n'enlevez pas les % car il permettent le reload de modules ou l'affichage dans le notebook\n",
    "%matplotlib inline\n",
    "%load_ext autoreload\n",
    "%autoreload 2\n",
    "import os\n",
    "import numpy as np\n",
    "import random\n",
    "import pickle as pkl\n",
    "import re\n",
    "import matplotlib.pyplot as plt\n",
    "import platform\n",
    "from sklearn.metrics import f1_score\n",
    "import spacy\n",
    "from spacy import displacy"
   ]
  },
  {
   "cell_type": "code",
   "execution_count": 5,
   "id": "bc3d991c",
   "metadata": {},
   "outputs": [
    {
     "name": "stdout",
     "output_type": "stream",
     "text": [
      "It\n",
      "'s\n",
      "cold\n",
      "outside\n"
     ]
    }
   ],
   "source": [
    "nlp_en = spacy.load(\"en_core_web_sm\")\n",
    "#nlp_fr = spacy.load(\"fr_core_news_sm\")\n",
    "#nlp_en = spacy.blank(\"en\")   # equivalent to English\n",
    "\n",
    "doc = nlp_en(\"It's cold outside\")\n",
    "for token in doc :\n",
    "    print(token.text)\n"
   ]
  },
  {
   "cell_type": "code",
   "execution_count": 7,
   "id": "47cd99ba",
   "metadata": {},
   "outputs": [
    {
     "name": "stdout",
     "output_type": "stream",
     "text": [
      "It\t0\tit\tFalse\tFalse\tXx\tPRON\tPRP\t\n",
      "'s\t2\tbe\tFalse\tFalse\t'x\tAUX\tVBZ\t\n",
      "cold\t5\tcold\tFalse\tFalse\txxxx\tADJ\tJJ\t\n",
      "outside\t10\toutside\tFalse\tFalse\txxxx\tADV\tRB\t\n"
     ]
    }
   ],
   "source": [
    "for token in doc:\n",
    "    print(\"{0}\\t{1}\\t{2}\\t{3}\\t{4}\\t{5}\\t{6}\\t{7}\\t{8}\".format(\n",
    "        token.text,\n",
    "        token.idx,\n",
    "        token.lemma_,\n",
    "        token.is_punct,\n",
    "        token.is_space,\n",
    "        token.shape_,\n",
    "        token.pos_,\n",
    "        token.tag_,\n",
    "        token.ent_type_\n",
    "    ))"
   ]
  },
  {
   "cell_type": "code",
   "execution_count": null,
   "id": "0c7a43d2",
   "metadata": {},
   "outputs": [],
   "source": []
  }
 ],
 "metadata": {
  "kernelspec": {
   "display_name": "Python 3",
   "language": "python",
   "name": "python3"
  },
  "language_info": {
   "codemirror_mode": {
    "name": "ipython",
    "version": 3
   },
   "file_extension": ".py",
   "mimetype": "text/x-python",
   "name": "python",
   "nbconvert_exporter": "python",
   "pygments_lexer": "ipython3",
   "version": "3.6.13"
  }
 },
 "nbformat": 4,
 "nbformat_minor": 5
}
